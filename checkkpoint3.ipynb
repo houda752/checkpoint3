{
 "cells": [
  {
   "cell_type": "code",
   "execution_count": 1,
   "id": "2363429e",
   "metadata": {},
   "outputs": [
    {
     "name": "stdout",
     "output_type": "stream",
     "text": [
      "36\n"
     ]
    }
   ],
   "source": [
    "#Question 1\n",
    "def mult_list(lst):\n",
    "    result = 1\n",
    "    for num in lst:\n",
    "        result *= num\n",
    "    return result\n",
    "\n",
    "my_list = [2, 3, 6]\n",
    "result = mult_list(my_list)\n",
    "print(result)"
   ]
  },
  {
   "cell_type": "code",
   "execution_count": 2,
   "id": "f2475a41",
   "metadata": {},
   "outputs": [
    {
     "name": "stdout",
     "output_type": "stream",
     "text": [
      "[(2, 1), (1, 2), (2, 3), (4, 4), (2, 5)]\n"
     ]
    }
   ],
   "source": [
    "#Question 2\n",
    "def sort_tuple_list_by_last_element(lst):\n",
    "    return sorted(lst, key=lambda x: x[-1])\n",
    "\n",
    "my_list = [(2, 5), (1, 2), (4, 4), (2, 3), (2, 1)]\n",
    "sorted_list = sort_tuple_list_by_last_element(my_list)\n",
    "print(sorted_list)"
   ]
  },
  {
   "cell_type": "code",
   "execution_count": 3,
   "id": "acc3b00a",
   "metadata": {},
   "outputs": [
    {
     "name": "stdout",
     "output_type": "stream",
     "text": [
      "{'a': 400, 'b': 400, 'c': 300, 'd': 400}\n"
     ]
    }
   ],
   "source": [
    "#Question 3\n",
    "def add_dict(d1, d2):\n",
    "    result = dict(d1)  \n",
    "    for key, value in d2.items():\n",
    "        if key in result:\n",
    "            result[key] += value\n",
    "        else:\n",
    "            result[key] = value\n",
    "    return result\n",
    "\n",
    "d1 = {'a' : 100, 'b' : 200, 'c' : 300}\n",
    "\n",
    "d2 = {'a' : 300, 'b' : 200, 'd' : 400}\n",
    "new_dict = add_dict(d1, d2)\n",
    "print(new_dict)"
   ]
  },
  {
   "cell_type": "code",
   "execution_count": 4,
   "id": "5b2fadae",
   "metadata": {},
   "outputs": [
    {
     "name": "stdout",
     "output_type": "stream",
     "text": [
      "veuillez saisir un entier n:8\n",
      "{1: 1, 2: 4, 3: 9, 4: 16, 5: 25, 6: 36, 7: 49, 8: 64}\n"
     ]
    }
   ],
   "source": [
    "#Question 4\n",
    "n=int(input(\"veuillez saisir un entier n:\"))\n",
    "def generate_carre_dict(n):\n",
    "    carre_dict = {}\n",
    "    for i in range(1, n+1):\n",
    "        carre_dict[i] = i*i\n",
    "    return carre_dict\n",
    "\n",
    "\n",
    "carre_dict = generate_carre_dict(n)\n",
    "print(carre_dict)"
   ]
  },
  {
   "cell_type": "code",
   "execution_count": 5,
   "id": "ca770350",
   "metadata": {},
   "outputs": [
    {
     "name": "stdout",
     "output_type": "stream",
     "text": [
      "0\n",
      "1\n",
      "2\n",
      "3\n",
      "4\n",
      "{1, 2, 3, 4, 5}\n"
     ]
    }
   ],
   "source": [
    "#Question 6\n",
    "my_set={0,1,2,3,4}\n",
    "for element in my_set:\n",
    "    print(element)\n",
    "my_set.add(5)\n",
    "my_set.remove(0)\n",
    "print(my_set)"
   ]
  },
  {
   "cell_type": "code",
   "execution_count": null,
   "id": "cdc38abe",
   "metadata": {},
   "outputs": [],
   "source": []
  }
 ],
 "metadata": {
  "kernelspec": {
   "display_name": "Python 3",
   "language": "python",
   "name": "python3"
  },
  "language_info": {
   "codemirror_mode": {
    "name": "ipython",
    "version": 3
   },
   "file_extension": ".py",
   "mimetype": "text/x-python",
   "name": "python",
   "nbconvert_exporter": "python",
   "pygments_lexer": "ipython3",
   "version": "3.8.8"
  }
 },
 "nbformat": 4,
 "nbformat_minor": 5
}
